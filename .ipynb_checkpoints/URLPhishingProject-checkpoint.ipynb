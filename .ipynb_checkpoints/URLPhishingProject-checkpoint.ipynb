{
 "cells": [
  {
   "cell_type": "code",
   "execution_count": 1,
   "metadata": {
    "id": "rVbsphj4E_AW"
   },
   "outputs": [
    {
     "ename": "ModuleNotFoundError",
     "evalue": "No module named 'tensorflow'",
     "output_type": "error",
     "traceback": [
      "\u001b[1;31m---------------------------------------------------------------------------\u001b[0m",
      "\u001b[1;31mModuleNotFoundError\u001b[0m                       Traceback (most recent call last)",
      "Input \u001b[1;32mIn [1]\u001b[0m, in \u001b[0;36m<cell line: 6>\u001b[1;34m()\u001b[0m\n\u001b[0;32m      4\u001b[0m \u001b[38;5;28;01mfrom\u001b[39;00m \u001b[38;5;21;01mmatplotlib\u001b[39;00m \u001b[38;5;28;01mimport\u001b[39;00m pyplot \u001b[38;5;28;01mas\u001b[39;00m plt\n\u001b[0;32m      5\u001b[0m \u001b[38;5;28;01mfrom\u001b[39;00m \u001b[38;5;21;01msklearn\u001b[39;00m\u001b[38;5;21;01m.\u001b[39;00m\u001b[38;5;21;01mmodel_selection\u001b[39;00m \u001b[38;5;28;01mimport\u001b[39;00m train_test_split\n\u001b[1;32m----> 6\u001b[0m \u001b[38;5;28;01mfrom\u001b[39;00m \u001b[38;5;21;01mtensorflow\u001b[39;00m \u001b[38;5;28;01mimport\u001b[39;00m keras\n\u001b[0;32m      7\u001b[0m \u001b[38;5;28;01mimport\u001b[39;00m \u001b[38;5;21;01mseaborn\u001b[39;00m \u001b[38;5;28;01mas\u001b[39;00m \u001b[38;5;21;01msns\u001b[39;00m\n",
      "\u001b[1;31mModuleNotFoundError\u001b[0m: No module named 'tensorflow'"
     ]
    }
   ],
   "source": [
    "# Importing all the necessary libraries\n",
    "import pandas as pd\n",
    "import numpy as np\n",
    "from matplotlib import pyplot as plt\n",
    "from sklearn.model_selection import train_test_split\n",
    "from tensorflow import keras\n",
    "import seaborn as sns"
   ]
  },
  {
   "cell_type": "code",
   "execution_count": null,
   "metadata": {
    "colab": {
     "base_uri": "https://localhost:8080/",
     "height": 423
    },
    "id": "S3t9E8TPFEc-",
    "outputId": "6fda5e33-5db8-477e-b86f-6d1be0a82337"
   },
   "outputs": [],
   "source": [
    "# Read the dataset\n",
    "data = pd.read_csv('/content/dataset_phishing.csv')\n",
    "\n",
    "\n",
    "data['status'] = data['status'].replace('legitimate', 1)\n",
    "data['status'] = data['status'].replace('phishing', 0)\n",
    "data['status'].value_counts().plot(kind = 'pie', colors = ['blue', 'green'], labels=['Legitimate', 'Phishing'])"
   ]
  },
  {
   "cell_type": "code",
   "execution_count": null,
   "metadata": {
    "id": "Im-oWziPZIvv"
   },
   "outputs": [],
   "source": [
    "X = data.drop(['url', 'status'], axis = 1).astype(int)\n",
    "Y = data['status'].astype(int)\n",
    "X_train, X_test, Y_train, Y_test = train_test_split(X, Y, test_size=0.3, random_state = 42)"
   ]
  },
  {
   "cell_type": "code",
   "execution_count": null,
   "metadata": {
    "id": "Gv5_hFSTYrdo"
   },
   "outputs": [],
   "source": [
    "# Correlation matrix\n",
    "mat = X_train.corr()\n",
    "plt.figure(figsize=(30, 30))\n",
    "sns.heatmap(mat, cmap='coolwarm', fmt='.2f')\n",
    "plt.title('Correlation Heatmap')\n",
    "plt.xlabel(f'Features (Total: {mat.shape[1]})')\n",
    "plt.ylabel(f'Features (Total: {mat.shape[1]})')\n",
    "plt.show()"
   ]
  },
  {
   "cell_type": "markdown",
   "metadata": {
    "id": "tOAg1jdbZXZe"
   },
   "source": [
    "## Model Architecture\n",
    "The model architecture combines a 1D Convolutional Neural Network (CNN) and Long Short-Term Memory (LSTM). The main reason of including LSTM layer is for the identification of relevant patterns in the data. The model is built using the Keras library with a sequential structure.\n"
   ]
  },
  {
   "cell_type": "code",
   "execution_count": null,
   "metadata": {
    "id": "own0AASpFLbs"
   },
   "outputs": [],
   "source": [
    "# Build the model\n",
    "model = keras.Sequential([\n",
    "    keras.layers.Conv1D(filters=64, input_shape=(87,1), kernel_size=2, activation='relu'),\n",
    "    keras.layers.MaxPooling1D(pool_size=2),\n",
    "\n",
    "    keras.layers.LSTM(100),\n",
    "    keras.layers.Flatten(),\n",
    "    keras.layers.Dense(64, activation = 'sigmoid'),\n",
    "    keras.layers.Dense(512, activation='sigmoid'),\n",
    "    keras.layers.Dense(64, activation = 'sigmoid'),\n",
    "    keras.layers.Dense(2, activation='sigmoid'),\n",
    "])\n"
   ]
  },
  {
   "cell_type": "markdown",
   "metadata": {
    "id": "oiqG5cDRaw73"
   },
   "source": [
    "## Loss and metrics\n",
    "The loss function used here is sparse categorical cross entropy, which returns one-hot encodings."
   ]
  },
  {
   "cell_type": "code",
   "execution_count": null,
   "metadata": {
    "id": "e3JhIsrEFM5s"
   },
   "outputs": [],
   "source": [
    "\n",
    "model.compile(optimizer='adam', loss='sparse_categorical_crossentropy', metrics=['accuracy'])"
   ]
  },
  {
   "cell_type": "markdown",
   "metadata": {
    "id": "OcLBKIyCbD-Q"
   },
   "source": [
    "## Model training\n",
    "The model is trained with 30 epochs, with the default batch size."
   ]
  },
  {
   "cell_type": "code",
   "execution_count": 363,
   "metadata": {
    "colab": {
     "base_uri": "https://localhost:8080/"
    },
    "id": "O3cuzxhVFNwU",
    "outputId": "373acd41-e905-4f67-b55d-7897512333cf"
   },
   "outputs": [
    {
     "name": "stdout",
     "output_type": "stream",
     "text": [
      "Epoch 1/30\n",
      "251/251 [==============================] - 18s 58ms/step - loss: 0.4211 - accuracy: 0.7898\n",
      "Epoch 2/30\n",
      "251/251 [==============================] - 15s 58ms/step - loss: 0.2773 - accuracy: 0.8900\n",
      "Epoch 3/30\n",
      "251/251 [==============================] - 14s 57ms/step - loss: 0.2243 - accuracy: 0.9159\n",
      "Epoch 4/30\n",
      "251/251 [==============================] - 15s 58ms/step - loss: 0.2117 - accuracy: 0.9238\n",
      "Epoch 5/30\n",
      "251/251 [==============================] - 14s 58ms/step - loss: 0.1914 - accuracy: 0.9283\n",
      "Epoch 6/30\n",
      "251/251 [==============================] - 15s 60ms/step - loss: 0.1776 - accuracy: 0.9354\n",
      "Epoch 7/30\n",
      "251/251 [==============================] - 15s 59ms/step - loss: 0.1706 - accuracy: 0.9385\n",
      "Epoch 8/30\n",
      "251/251 [==============================] - 15s 58ms/step - loss: 0.1613 - accuracy: 0.9416\n",
      "Epoch 9/30\n",
      "251/251 [==============================] - 15s 58ms/step - loss: 0.1539 - accuracy: 0.9443\n",
      "Epoch 10/30\n",
      "251/251 [==============================] - 15s 59ms/step - loss: 0.1477 - accuracy: 0.9484\n",
      "Epoch 11/30\n",
      "251/251 [==============================] - 16s 62ms/step - loss: 0.1498 - accuracy: 0.9463\n",
      "Epoch 12/30\n",
      "251/251 [==============================] - 15s 58ms/step - loss: 0.1398 - accuracy: 0.9505\n",
      "Epoch 13/30\n",
      "251/251 [==============================] - 15s 62ms/step - loss: 0.1380 - accuracy: 0.9515\n",
      "Epoch 14/30\n",
      "251/251 [==============================] - 15s 59ms/step - loss: 0.1320 - accuracy: 0.9531\n",
      "Epoch 15/30\n",
      "251/251 [==============================] - 15s 59ms/step - loss: 0.1281 - accuracy: 0.9541\n",
      "Epoch 16/30\n",
      "251/251 [==============================] - 15s 59ms/step - loss: 0.1259 - accuracy: 0.9546\n",
      "Epoch 17/30\n",
      "251/251 [==============================] - 15s 59ms/step - loss: 0.1810 - accuracy: 0.9336\n",
      "Epoch 18/30\n",
      "251/251 [==============================] - 15s 58ms/step - loss: 0.1311 - accuracy: 0.9545\n",
      "Epoch 19/30\n",
      "251/251 [==============================] - 15s 59ms/step - loss: 0.1250 - accuracy: 0.9555\n",
      "Epoch 20/30\n",
      "251/251 [==============================] - 15s 61ms/step - loss: 0.1205 - accuracy: 0.9569\n",
      "Epoch 21/30\n",
      "251/251 [==============================] - 15s 60ms/step - loss: 0.1182 - accuracy: 0.9570\n",
      "Epoch 22/30\n",
      "251/251 [==============================] - 15s 59ms/step - loss: 0.1126 - accuracy: 0.9585\n",
      "Epoch 23/30\n",
      "251/251 [==============================] - 15s 59ms/step - loss: 0.1137 - accuracy: 0.9599\n",
      "Epoch 24/30\n",
      "251/251 [==============================] - 15s 59ms/step - loss: 0.1050 - accuracy: 0.9648\n",
      "Epoch 25/30\n",
      "251/251 [==============================] - 15s 58ms/step - loss: 0.1008 - accuracy: 0.9651\n",
      "Epoch 26/30\n",
      "251/251 [==============================] - 16s 63ms/step - loss: 0.1046 - accuracy: 0.9634\n",
      "Epoch 27/30\n",
      "251/251 [==============================] - 15s 61ms/step - loss: 0.1013 - accuracy: 0.9635\n",
      "Epoch 28/30\n",
      "251/251 [==============================] - 15s 59ms/step - loss: 0.0982 - accuracy: 0.9666\n",
      "Epoch 29/30\n",
      "251/251 [==============================] - 15s 58ms/step - loss: 0.1012 - accuracy: 0.9660\n",
      "Epoch 30/30\n",
      "251/251 [==============================] - 15s 58ms/step - loss: 0.0937 - accuracy: 0.9684\n"
     ]
    }
   ],
   "source": [
    "history = model.fit(X_train, Y_train, epochs=30)"
   ]
  },
  {
   "cell_type": "markdown",
   "metadata": {
    "id": "ulwuAjumbYTB"
   },
   "source": [
    "## Number of mis-classifications\n",
    "The number of mis-classifications between the predicted outputs and actual labels."
   ]
  },
  {
   "cell_type": "code",
   "execution_count": 365,
   "metadata": {
    "colab": {
     "base_uri": "https://localhost:8080/"
    },
    "id": "mt_y6kybfF0B",
    "outputId": "e66558da-a391-496b-eb6d-532009f82ed7"
   },
   "outputs": [
    {
     "name": "stdout",
     "output_type": "stream",
     "text": [
      "251/251 [==============================] - 5s 18ms/step\n",
      "237\n"
     ]
    }
   ],
   "source": [
    "Y_pred = model.predict(X_train)\n",
    "cnt = 0\n",
    "for i in range(len(Y_pred)):\n",
    "    if(np.argmax(Y_pred[i]) != np.array(Y_train)[i]):\n",
    "      cnt = cnt + 1\n",
    "print(cnt)"
   ]
  },
  {
   "cell_type": "markdown",
   "metadata": {
    "id": "pZnx9dalb5ug"
   },
   "source": [
    "## Testing the model\n",
    "model.evaulate() is an inbuilt function that helps us evaluate the test accuracy."
   ]
  },
  {
   "cell_type": "code",
   "execution_count": 364,
   "metadata": {
    "colab": {
     "base_uri": "https://localhost:8080/"
    },
    "id": "MhsQEzUoerA4",
    "outputId": "84586ea3-2656-440e-b0b9-6d816892a70a"
   },
   "outputs": [
    {
     "name": "stdout",
     "output_type": "stream",
     "text": [
      "108/108 [==============================] - 2s 17ms/step - loss: 0.1362 - accuracy: 0.9536\n"
     ]
    },
    {
     "data": {
      "text/plain": [
       "[0.13616065680980682, 0.953630805015564]"
      ]
     },
     "execution_count": 364,
     "metadata": {},
     "output_type": "execute_result"
    }
   ],
   "source": [
    "model.evaluate(X_test, Y_test)"
   ]
  },
  {
   "cell_type": "code",
   "execution_count": null,
   "metadata": {
    "id": "ub4ghCwMWcrK"
   },
   "outputs": [],
   "source": []
  }
 ],
 "metadata": {
  "colab": {
   "provenance": []
  },
  "kernelspec": {
   "display_name": "Python 3 (ipykernel)",
   "language": "python",
   "name": "python3"
  },
  "language_info": {
   "codemirror_mode": {
    "name": "ipython",
    "version": 3
   },
   "file_extension": ".py",
   "mimetype": "text/x-python",
   "name": "python",
   "nbconvert_exporter": "python",
   "pygments_lexer": "ipython3",
   "version": "3.9.12"
  }
 },
 "nbformat": 4,
 "nbformat_minor": 1
}
